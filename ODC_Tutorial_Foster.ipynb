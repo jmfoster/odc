{
 "cells": [
  {
   "cell_type": "markdown",
   "metadata": {},
   "source": [
    "# Tutorial on using Vowpal Wabbit and R Magic for the Oracle Data Challenge"
   ]
  },
  {
   "cell_type": "markdown",
   "metadata": {},
   "source": [
    "## Step 1: Get Data\n",
    "\n",
    "### A. Download full compressed data sets\n",
    "links on slack general channel\n",
    "\n",
    "### B. Download sampled data\n",
    "links on slack general channel\n",
    "\n",
    "### C. Create your own sample from downloaded full data sets\n",
    "Download and install odc from https://github.com/CoDataScience/oracle-audience\n",
    "\n",
    "also see Pedro's posts on slack competition channel\n"
   ]
  },
  {
   "cell_type": "code",
   "execution_count": 55,
   "metadata": {
    "collapsed": true
   },
   "outputs": [
    {
     "name": "stdout",
     "output_type": "stream",
     "text": [
      "Single file detected\n"
     ]
    },
    {
     "name": "stderr",
     "output_type": "stream",
     "text": [
      "Traceback (most recent call last):\n",
      "  File \"/Users/jmf/workspace/Jupyter/odc/oracle-audience-master/odc.py\", line 173, in <module>\n",
      "    cli()\n",
      "  File \"/usr/local/lib/python3.5/site-packages/click-6.6-py3.5.egg/click/core.py\", line 716, in __call__\n",
      "    return self.main(*args, **kwargs)\n",
      "  File \"/usr/local/lib/python3.5/site-packages/click-6.6-py3.5.egg/click/core.py\", line 696, in main\n",
      "    rv = self.invoke(ctx)\n",
      "  File \"/usr/local/lib/python3.5/site-packages/click-6.6-py3.5.egg/click/core.py\", line 1060, in invoke\n",
      "    return _process_result(sub_ctx.command.invoke(sub_ctx))\n",
      "  File \"/usr/local/lib/python3.5/site-packages/click-6.6-py3.5.egg/click/core.py\", line 889, in invoke\n",
      "    return ctx.invoke(self.callback, **ctx.params)\n",
      "  File \"/usr/local/lib/python3.5/site-packages/click-6.6-py3.5.egg/click/core.py\", line 534, in invoke\n",
      "    return callback(*args, **kwargs)\n",
      "  File \"/Users/jmf/workspace/Jupyter/odc/oracle-audience-master/odc.py\", line 128, in sample\n",
      "    files = [smart_open.smart_open(input_path)]\n",
      "  File \"/usr/local/lib/python3.5/site-packages/smart_open-1.3.5-py3.5.egg/smart_open/smart_open_lib.py\", line 127, in smart_open\n",
      "    return file_smart_open(parsed_uri.uri_path, mode)\n",
      "  File \"/usr/local/lib/python3.5/site-packages/smart_open-1.3.5-py3.5.egg/smart_open/smart_open_lib.py\", line 558, in file_smart_open\n",
      "    return open(fname, mode)\n",
      "FileNotFoundError: [Errno 2] No such file or directory: 'data/train'\n"
     ]
    }
   ],
   "source": [
    "%%bash\n",
    "#sample from full data sets\n",
    "python3 /Users/jmf/workspace/Jupyter/odc/oracle-audience-master/odc.py sample 10000 data/train data/sampled_train.txt  #but this only sampled negative examples?"
   ]
  },
  {
   "cell_type": "markdown",
   "metadata": {},
   "source": [
    "## Step 2: [If you are running on the full data set] Decompress Data\n",
    "see http://codata.colorado.edu/competitions/oracle/"
   ]
  },
  {
   "cell_type": "code",
   "execution_count": null,
   "metadata": {
    "collapsed": false
   },
   "outputs": [],
   "source": [
    "%%bash\n",
    "\n",
    "#decompress and merge train data\n",
    "tar -xzvf data/train_set.tar.gz\n",
    "bzip2 -d data/train/*.bz2\n",
    "cat data/train/* > data/train.txt\n"
   ]
  },
  {
   "cell_type": "code",
   "execution_count": null,
   "metadata": {
    "collapsed": true
   },
   "outputs": [],
   "source": [
    "%%bash\n",
    "\n",
    "#decompress and merge validation data\n",
    "tar -xzvf data/val_set.tar.gz\n",
    "bzip2 -d data/val/*.bz2\n",
    "cat data/val/* > data/val.txt\n"
   ]
  },
  {
   "cell_type": "code",
   "execution_count": null,
   "metadata": {
    "collapsed": true
   },
   "outputs": [],
   "source": [
    "%%bash\n",
    "\n",
    "#decompress and merge contest data\n",
    "tar -xzvf data/contest_set.tar.gz\n",
    "bzip2 -d data/contest/*.bz2\n",
    "cat data/contest/* > data/contest.txt"
   ]
  },
  {
   "cell_type": "markdown",
   "metadata": {},
   "source": [
    "## Step 3: Install Vowpal Wabbit\n",
    "see https://github.com/JohnLangford/vowpal_wabbit/wiki/Download"
   ]
  },
  {
   "cell_type": "markdown",
   "metadata": {},
   "source": [
    "## Step 4: Convert training and validation data to Vowpal Wabbit format\n",
    "code adapted from tutorial at http://codata.colorado.edu/notebooks/tutorials/odc_vowpalwabbit_nehal_kamat/"
   ]
  },
  {
   "cell_type": "code",
   "execution_count": 1,
   "metadata": {
    "collapsed": true
   },
   "outputs": [],
   "source": [
    "import itertools\n",
    "DIR = \"./data/\"\n",
    "\n",
    "def file_len(fname):\n",
    "    with open(fname) as f:\n",
    "        for i, l in enumerate(f):\n",
    "            pass\n",
    "    return i + 1"
   ]
  },
  {
   "cell_type": "code",
   "execution_count": 103,
   "metadata": {
    "collapsed": true
   },
   "outputs": [],
   "source": [
    "# convert training data to VW format\n",
    "\n",
    "vw_compatible_file = open(DIR+\"./sampled_10000-train-vw_compatible_file.vw\", 'wb')\n",
    "with open(DIR + 'sampled_10000-train.txt', 'r') as train_data:\n",
    "    nRows = file_len(DIR+'sampled_10000-train.txt')\n",
    "    for line in itertools.islice(train_data, 0, nRows):\n",
    "        el = eval(line)\n",
    "        vw_compatible_file.write(str(el[1]) + \" '\" + str(el[0]) + \" | \")\n",
    "        for item in el[2][1]:\n",
    "            vw_compatible_file.write(str(item[0]) + \":\" + str(item[1]) + \" \")\n",
    "        vw_compatible_file.write(\"\\n\")\n",
    "vw_compatible_file.close()"
   ]
  },
  {
   "cell_type": "code",
   "execution_count": 106,
   "metadata": {
    "collapsed": false
   },
   "outputs": [],
   "source": [
    "# convert validation data to VW format\n",
    "\n",
    "vw_compatible_file = open(DIR+\"./sampled_10000-val-vw_compatible_file.vw\", 'wb')\n",
    "with open(DIR + 'sampled_10000-val.txt', 'r') as val_data:\n",
    "    nRows = file_len(DIR+'sampled_10000-val.txt')\n",
    "    for line in itertools.islice(val_data, 0, nRows):\n",
    "        el = eval(line)\n",
    "        vw_compatible_file.write(str(el[1]) + \" '\" + str(el[0]) + \" | \")\n",
    "        for item in el[2][1]:\n",
    "            vw_compatible_file.write(str(item[0]) + \":\" + str(item[1]) + \" \")\n",
    "        vw_compatible_file.write(\"\\n\")\n",
    "vw_compatible_file.close()"
   ]
  },
  {
   "cell_type": "markdown",
   "metadata": {},
   "source": [
    "## Step 5: Train Vowpal Wabbit model(s)\n",
    "see https://github.com/JohnLangford/vowpal_wabbit/wiki/Tutorial\n",
    "\n",
    "Note: vw-varinfo is just a wrapper around vw that allows human-readable output of feature weights. see https://github.com/JohnLangford/vowpal_wabbit/wiki/using-vw-varinfo"
   ]
  },
  {
   "cell_type": "markdown",
   "metadata": {},
   "source": [
    "### Default Model"
   ]
  },
  {
   "cell_type": "code",
   "execution_count": 284,
   "metadata": {
    "collapsed": false
   },
   "outputs": [],
   "source": [
    "%%bash\n",
    "\n",
    "vw-varinfo -f data/model.vw -d data/sampled_10000-train-vw_compatible_file.vw > feature_weights.txt\n",
    "#  -f says write the final model here\n",
    "#  --loss_function logistic makes this binary classification\n",
    "#  -d says use this training data \n"
   ]
  },
  {
   "cell_type": "markdown",
   "metadata": {},
   "source": [
    "### Lasso Regression"
   ]
  },
  {
   "cell_type": "code",
   "execution_count": 122,
   "metadata": {
    "collapsed": false
   },
   "outputs": [],
   "source": [
    "%%bash\n",
    "\n",
    "vw-varinfo --l1 1e-7 -f data/model.vw -d data/sampled_10000-train-vw_compatible_file.vw > feature_weights.txt\n",
    "# --l1 is lasso regression"
   ]
  },
  {
   "cell_type": "markdown",
   "metadata": {},
   "source": [
    "### Neural network model"
   ]
  },
  {
   "cell_type": "code",
   "execution_count": 139,
   "metadata": {
    "collapsed": true
   },
   "outputs": [],
   "source": [
    "%%bash\n",
    "\n",
    "vw-varinfo --nn 10 -f data/model.vw -d data/sampled_10000-train-vw_compatible_file.vw > feature_weights.txt\n",
    "#  --nn is neural network model with X number of hidden units"
   ]
  },
  {
   "cell_type": "markdown",
   "metadata": {},
   "source": [
    "## Step 6: Run Vowpal Wabbit model on Validation Set"
   ]
  },
  {
   "cell_type": "code",
   "execution_count": 285,
   "metadata": {
    "collapsed": false,
    "scrolled": true
   },
   "outputs": [
    {
     "name": "stderr",
     "output_type": "stream",
     "text": [
      "only testing\n",
      "predictions = predictions.txt\n",
      "Num weight bits = 18\n",
      "learning rate = 0.5\n",
      "initial_t = 0\n",
      "power_t = 0.5\n",
      "using no cache\n",
      "Reading datafile = data/sampled_10000-val-vw_compatible_file.vw\n",
      "num sources = 1\n",
      "average  since         example        example  current  current  current\n",
      "loss     last          counter         weight    label  predict features\n",
      "126.284500 126.284500            1            1.0   0.0000  11.2376      346\n",
      "139.537628 152.790756            2            2.0   0.0000  12.3609      171\n",
      "287.765436 435.993244            4            4.0  84.9700  57.2009     4396\n",
      "322.304579 356.843722            8            8.0   0.0000   3.0295       69\n",
      "241.897910 161.491241           16           16.0   0.0000  21.8121      841\n",
      "391.066750 540.235590           32           32.0   0.0000   0.6538       49\n",
      "346.160955 301.255160           64           64.0   0.0000   7.1842      111\n",
      "1054.787658 1763.414360          128          128.0   0.0000   1.5063       57\n",
      "1095.489470 1136.191283          256          256.0   0.0000   2.9224      464\n",
      "7020.840507 12946.191544          512          512.0   0.0000  65.4305     6204\n",
      "5337.910548 3654.980590         1024         1024.0   0.0000   9.7615      267\n",
      "5415.389770 5492.868991         2048         2048.0   0.0000  18.0220      735\n",
      "4276.943999 3138.498227         4096         4096.0   0.0000   5.8025      235\n",
      "3832.083136 3387.222273         8192         8192.0   0.0000  30.6766     1879\n",
      "\n",
      "finished run\n",
      "number of examples per pass = 10000\n",
      "passes used = 1\n",
      "weighted example sum = 10000.000000\n",
      "weighted label sum = 139006.738209\n",
      "average loss = 4090.008185\n",
      "best constant = 13.900674\n",
      "total feature number = 10495922\n"
     ]
    }
   ],
   "source": [
    "%%bash\n",
    "\n",
    "#example\n",
    "vw -i data/model.vw -t data/sampled_10000-val-vw_compatible_file.vw -p predictions.txt\n",
    "#  -t says, don`t learn, just score\n",
    "#  -i says use this model to score\n",
    "#  -p says output predictions to this file"
   ]
  },
  {
   "cell_type": "markdown",
   "metadata": {},
   "source": [
    "## Step 7: Convert VW predictions.txt file to submission format\n",
    "see Pedro's posts on slack"
   ]
  },
  {
   "cell_type": "code",
   "execution_count": 10,
   "metadata": {
    "collapsed": true
   },
   "outputs": [],
   "source": [
    "#nBuyers = 100000\n",
    "nBuyers = 1000\n",
    "\n",
    "import sys\n",
    "def parse_lines(file):\n",
    "    lines = []\n",
    "    with open(file) as f:\n",
    "        for l in f:\n",
    "            score, hhid = l.strip().split()\n",
    "            score = float(score)\n",
    "            hhid = int(hhid)\n",
    "            lines.append((score, hhid))\n",
    "    return lines\n",
    "\n",
    "def write_submission(lines, output):\n",
    "    sorted_predictions = sorted(lines, reverse=True)\n",
    "    with open(output, 'w') as f:\n",
    "        f.write('household_id,advertise\\n')\n",
    "        for i in range(len(sorted_predictions)):\n",
    "            _, hhid = sorted_predictions[i]\n",
    "            if i < nBuyers:\n",
    "                f.write('{},1\\n'.format(hhid))\n",
    "            else:\n",
    "                f.write('{},0\\n'.format(hhid))\n",
    "                \n",
    "                \n",
    "def write_submission_ordered(lines, output):\n",
    "    sorted_predictions = sorted(lines, reverse=True)\n",
    "    with open(output, 'w') as f:\n",
    "        f.write('household_id\\n')\n",
    "        for i in range(len(sorted_predictions)):\n",
    "            _, hhid = sorted_predictions[i]\n",
    "            if i < nBuyers:\n",
    "                f.write('{}\\n'.format(hhid))\n",
    "            else:\n",
    "                f.write('{}\\n'.format(hhid))\n",
    "\n",
    "#if __name__ == '__main__':\n",
    "#    lines = parse_lines(sys.argv[1])\n",
    "#    write_submission(lines, sys.argv[2])"
   ]
  },
  {
   "cell_type": "code",
   "execution_count": 286,
   "metadata": {
    "collapsed": true
   },
   "outputs": [],
   "source": [
    "lines = parse_lines('predictions.txt')\n",
    "write_submission(lines,'submission.csv')\n",
    "write_submission_ordered(lines, 'submission_ordered.csv')"
   ]
  },
  {
   "cell_type": "markdown",
   "metadata": {},
   "source": [
    "## Step 8: [If you are using sample validation data] Create sample_val_spend file for scoring"
   ]
  },
  {
   "cell_type": "code",
   "execution_count": 75,
   "metadata": {
    "collapsed": true
   },
   "outputs": [],
   "source": [
    "sample_val_spend_file = open(DIR+\"./sample_val_spend.csv\", 'wb')\n",
    "with open(DIR + 'sampled_10000-val.txt', 'r') as sample_val_spend_data:\n",
    "    nRows = file_len(DIR+'sampled_10000-val.txt')\n",
    "    for line in itertools.islice(sample_val_spend_data, 0, nRows):\n",
    "        el = eval(line)\n",
    "        sample_val_spend_file.write(str(el[0]) + \",\" + str(el[1]))\n",
    "        sample_val_spend_file.write(\"\\n\")\n",
    "sample_val_spend_file.close()"
   ]
  },
  {
   "cell_type": "markdown",
   "metadata": {},
   "source": [
    "## Step 9: Run scoring script on validation data\n",
    "see https://github.com/CoDataScience/oracle-audience and Pedro's posts on slack"
   ]
  },
  {
   "cell_type": "markdown",
   "metadata": {},
   "source": [
    "#### Ratio Scoring"
   ]
  },
  {
   "cell_type": "code",
   "execution_count": 287,
   "metadata": {
    "collapsed": false
   },
   "outputs": [
    {
     "name": "stdout",
     "output_type": "stream",
     "text": [
      "Scoring Options\n",
      "ratio: True\n",
      "ordered: False\n",
      "spend_file: data/all_val_spend.csv\n",
      "submission_file: submission.csv\n",
      "Revenue: 68285.85000000003\n",
      "Possible Revenue: 139006.7400000001\n",
      "Fraction of Possible Revenue: 0.49124128801236533\n",
      "Number of Responders: 410\n",
      "Possible Number of Responders: 909\n",
      "Fraction of Possible Responders 0.45104510451045104\n"
     ]
    }
   ],
   "source": [
    "%%bash\n",
    "\n",
    "python3 /Users/jmf/workspace/Jupyter/odc/oracle-audience-master/odc.py score --ratio data/all_val_spend.csv submission.csv\n",
    "\n",
    "#0.45 default VW settings\n",
    "#0.45 L1 (lasso regression) at 1e-7\n",
    "#0.40 L1 (lasso regression) at 1e-4\n",
    "#0.27 L1 (lasso regression) at .01\n",
    "\n",
    "#0.44 neural network w/ 5 hidden units\n",
    "#0.44 neural network w/ 10 hidden units\n",
    "#0.28 neural network w/ 100 hidden units\n",
    "\n",
    "#0.05 logistic loss function (on unmodified data sets)\n",
    "\n",
    "#.44 default VW with interaction terms of top 79 features\n",
    "\n"
   ]
  },
  {
   "cell_type": "markdown",
   "metadata": {},
   "source": [
    "#### Ordered Scoring [must use full data set to be accurate?]"
   ]
  },
  {
   "cell_type": "code",
   "execution_count": 111,
   "metadata": {
    "collapsed": false
   },
   "outputs": [
    {
     "name": "stdout",
     "output_type": "stream",
     "text": [
      "Scoring Options\n",
      "ratio: True\n",
      "ordered: True\n",
      "spend_file: data/all_val_spend.csv\n",
      "submission_file: submission_ordered.csv\n",
      "Revenue: 72796.56000000003\n",
      "Possible Revenue: 139006.7400000001\n",
      "Fraction of Possible Revenue: 0.5236908656371624\n",
      "Number of Responders: 432\n",
      "Possible Number of Responders: 909\n",
      "Fraction of Possible Responders 0.4752475247524752\n"
     ]
    }
   ],
   "source": [
    "%%bash \n",
    "\n",
    "python3 /Users/jmf/workspace/Jupyter/odc/oracle-audience-master/odc.py score --ordered --ratio data/all_val_spend.csv submission_ordered.csv\n",
    "\n"
   ]
  },
  {
   "cell_type": "markdown",
   "metadata": {},
   "source": [
    "## Step 10: Convert Contest Set data to Vowpal Wabbit format"
   ]
  },
  {
   "cell_type": "code",
   "execution_count": null,
   "metadata": {
    "collapsed": true
   },
   "outputs": [],
   "source": [
    "# convert validation data to VW format\n",
    "\n",
    "vw_compatible_file = open(DIR+\"./contest.vw\", 'wb')\n",
    "with open(DIR + 'contest.txt', 'r') as val_data:\n",
    "    nRows = file_len(DIR+'contest.vw')\n",
    "    for line in itertools.islice(val_data, 0, nRows):\n",
    "        el = eval(line)\n",
    "        vw_compatible_file.write(str(el[1]) + \" '\" + str(el[0]) + \" | \")\n",
    "        for item in el[2][1]:\n",
    "            vw_compatible_file.write(str(item[0]) + \":\" + str(item[1]) + \" \")\n",
    "        vw_compatible_file.write(\"\\n\")\n",
    "vw_compatible_file.close()"
   ]
  },
  {
   "cell_type": "markdown",
   "metadata": {},
   "source": [
    "## Step 10: Run Vowpal Wabbit model on Contest Set\n",
    "\n",
    "\n"
   ]
  },
  {
   "cell_type": "code",
   "execution_count": null,
   "metadata": {
    "collapsed": true
   },
   "outputs": [],
   "source": [
    "%%bash\n",
    "\n",
    "#example\n",
    "vw -i data/model.vw -t data/contest-vw_compatible_file.vw -p predictions_contest.txt\n",
    "#  -t says, don`t learn, just score\n",
    "#  -i says use this model to score\n",
    "#  -p says output predictions to this file"
   ]
  },
  {
   "cell_type": "markdown",
   "metadata": {},
   "source": [
    "## Step 11: Convert VW's contest set output to submission format\n"
   ]
  },
  {
   "cell_type": "code",
   "execution_count": 64,
   "metadata": {
    "collapsed": true
   },
   "outputs": [
    {
     "ename": "IOError",
     "evalue": "[Errno 2] No such file or directory: './data/predictions_contest.txt'",
     "output_type": "error",
     "traceback": [
      "\u001b[0;31m------------------------------------------------------------\u001b[0m",
      "\u001b[0;31mIOError\u001b[0m                    Traceback (most recent call last)",
      "\u001b[0;32m<ipython-input-64-efbed775f5d1>\u001b[0m in \u001b[0;36m<module>\u001b[0;34m()\u001b[0m\n\u001b[0;32m----> 1\u001b[0;31m \u001b[0mlines\u001b[0m \u001b[0;34m=\u001b[0m \u001b[0mparse_lines\u001b[0m\u001b[0;34m(\u001b[0m\u001b[0mDIR\u001b[0m \u001b[0;34m+\u001b[0m \u001b[0;34m'predictions_contest.txt'\u001b[0m\u001b[0;34m)\u001b[0m\u001b[0;34m\u001b[0m\u001b[0m\n\u001b[0m\u001b[1;32m      2\u001b[0m \u001b[0mwrite_submission\u001b[0m\u001b[0;34m(\u001b[0m\u001b[0mlines\u001b[0m\u001b[0;34m,\u001b[0m \u001b[0mDIR\u001b[0m \u001b[0;34m+\u001b[0m\u001b[0;34m'submission_contest.csv'\u001b[0m\u001b[0;34m)\u001b[0m\u001b[0;34m\u001b[0m\u001b[0m\n",
      "\u001b[0;32m<ipython-input-61-04f26cf8fb94>\u001b[0m in \u001b[0;36mparse_lines\u001b[0;34m(file)\u001b[0m\n\u001b[1;32m      5\u001b[0m \u001b[0;32mdef\u001b[0m \u001b[0mparse_lines\u001b[0m\u001b[0;34m(\u001b[0m\u001b[0mfile\u001b[0m\u001b[0;34m)\u001b[0m\u001b[0;34m:\u001b[0m\u001b[0;34m\u001b[0m\u001b[0m\n\u001b[1;32m      6\u001b[0m     \u001b[0mlines\u001b[0m \u001b[0;34m=\u001b[0m \u001b[0;34m[\u001b[0m\u001b[0;34m]\u001b[0m\u001b[0;34m\u001b[0m\u001b[0m\n\u001b[0;32m----> 7\u001b[0;31m     \u001b[0;32mwith\u001b[0m \u001b[0mopen\u001b[0m\u001b[0;34m(\u001b[0m\u001b[0mfile\u001b[0m\u001b[0;34m)\u001b[0m \u001b[0;32mas\u001b[0m \u001b[0mf\u001b[0m\u001b[0;34m:\u001b[0m\u001b[0;34m\u001b[0m\u001b[0m\n\u001b[0m\u001b[1;32m      8\u001b[0m         \u001b[0;32mfor\u001b[0m \u001b[0ml\u001b[0m \u001b[0;32min\u001b[0m \u001b[0mf\u001b[0m\u001b[0;34m:\u001b[0m\u001b[0;34m\u001b[0m\u001b[0m\n\u001b[1;32m      9\u001b[0m             \u001b[0mscore\u001b[0m\u001b[0;34m,\u001b[0m \u001b[0mhhid\u001b[0m \u001b[0;34m=\u001b[0m \u001b[0ml\u001b[0m\u001b[0;34m.\u001b[0m\u001b[0mstrip\u001b[0m\u001b[0;34m(\u001b[0m\u001b[0;34m)\u001b[0m\u001b[0;34m.\u001b[0m\u001b[0msplit\u001b[0m\u001b[0;34m(\u001b[0m\u001b[0;34m)\u001b[0m\u001b[0;34m\u001b[0m\u001b[0m\n",
      "\u001b[0;31mIOError\u001b[0m: [Errno 2] No such file or directory: './data/predictions_contest.txt'"
     ]
    }
   ],
   "source": [
    "lines = parse_lines(DIR + 'predictions_contest.txt')\n",
    "write_submission(lines, DIR +'submission_contest.csv')"
   ]
  },
  {
   "cell_type": "markdown",
   "metadata": {},
   "source": [
    "# Model Introspection\n",
    "see https://github.com/JohnLangford/vowpal_wabbit/wiki/using-vw-varinfo"
   ]
  },
  {
   "cell_type": "markdown",
   "metadata": {
    "collapsed": false
   },
   "source": [
    "### Install R Magic\n",
    "http://rpy.sourceforge.net/rpy2/doc-dev/html/overview.html"
   ]
  },
  {
   "cell_type": "code",
   "execution_count": 3,
   "metadata": {
    "collapsed": false
   },
   "outputs": [],
   "source": [
    "%load_ext rpy2.ipython"
   ]
  },
  {
   "cell_type": "code",
   "execution_count": 4,
   "metadata": {
    "collapsed": false
   },
   "outputs": [
    {
     "data": {
      "text/plain": [
       "[1] 130086      6\n",
       "  FeatureName HashVal MinVal MaxVal  Weight RelScore\n",
       "1       35875   35875      0      0 5996.03   17.65%\n",
       "2       39858   39858      0      0 5177.77   15.24%\n",
       "3        7208    7208      0      0 4508.64   13.27%\n",
       "4      110472  110472      0      0 1889.09    5.56%\n",
       "5       66485   66485      0      0 1889.09    5.56%\n",
       "6       12654   12654      0      0 1750.51    5.15%\n",
       "  FeatureName        HashVal           MinVal      MaxVal      Weight         \n",
       " 0      :     1   Min.   :     0   Min.   :0   Min.   :0   Min.   :-33980.20  \n",
       " 10     :     1   1st Qu.: 33359   1st Qu.:0   1st Qu.:0   1st Qu.:    -0.22  \n",
       " 100    :     1   Median : 66742   Median :0   Median :0   Median :    -0.03  \n",
       " 1000   :     1   Mean   : 66745   Mean   :0   Mean   :0   Mean   :    -0.19  \n",
       " 10000  :     1   3rd Qu.:100107   3rd Qu.:0   3rd Qu.:0   3rd Qu.:     0.12  \n",
       " 100000 :     1   Max.   :133530   Max.   :0   Max.   :0   Max.   :  5996.03  \n",
       " (Other):130080                                                               \n",
       "    RelScore         \n",
       " Min.   :-100.00000  \n",
       " 1st Qu.:   0.00000  \n",
       " Median :   0.00000  \n",
       " Mean   :  -0.00044  \n",
       " 3rd Qu.:   0.00000  \n",
       " Max.   :  17.65000  \n",
       "                     \n"
      ]
     },
     "metadata": {},
     "output_type": "display_data"
    }
   ],
   "source": [
    "%%R\n",
    "f = read.table('feature_weights.txt', header=T)\n",
    "print(dim(f))\n",
    "print(head(f))\n",
    "f$RelScore = as.numeric(sub(\"%\",\"\",f$RelScore))\n",
    "summary(f)"
   ]
  },
  {
   "cell_type": "code",
   "execution_count": 5,
   "metadata": {
    "collapsed": false
   },
   "outputs": [
    {
     "data": {
      "image/png": "[encoded data removed]"
     },
     "metadata": {},
     "output_type": "display_data"
    },
    {
     "data": {
      "image/png": "[encoded data removed]"
     },
     "metadata": {},
     "output_type": "display_data"
    }
   ],
   "source": [
    "%%R\n",
    "f$absRelScore = abs(f$RelScore)\n",
    "hist(f$absRelScore[f$absRelScore>1], breaks=15)\n",
    "hist(f$RelScore[abs(f$RelScore)>=1], breaks=15)"
   ]
  },
  {
   "cell_type": "code",
   "execution_count": 6,
   "metadata": {
    "collapsed": false
   },
   "outputs": [
    {
     "data": {
      "text/plain": [
       "[1] 130086\n",
       "       FeatureName HashVal MinVal MaxVal     Weight RelScore absRelScore\n",
       "130086       78025   78025      0      0 -33980.200  -100.00      100.00\n",
       "1            35875   35875      0      0   5996.030    17.65       17.65\n",
       "2            39858   39858      0      0   5177.770    15.24       15.24\n",
       "3             7208    7208      0      0   4508.640    13.27       13.27\n",
       "130085       13930   13930      0      0  -3128.130    -9.21        9.21\n",
       "4           110472  110472      0      0   1889.090     5.56        5.56\n",
       "5            66485   66485      0      0   1889.090     5.56        5.56\n",
       "6            12654   12654      0      0   1750.510     5.15        5.15\n",
       "7            15330   15330      0      0   1716.390     5.05        5.05\n",
       "8            53200   53200      0      0   1601.740     4.71        4.71\n",
       "130084       35139   35139      0      0  -1504.100    -4.43        4.43\n",
       "9            97998   97998      0      0   1474.850     4.34        4.34\n",
       "130083      104584  104584      0      0  -1256.530    -3.70        3.70\n",
       "10           89909   89909      0      0   1188.030     3.50        3.50\n",
       "11           24090   24090      0      0    981.228     2.89        2.89\n",
       "12           40883   40883      0      0    906.858     2.67        2.67\n",
       "13           29339   29339      0      0    871.751     2.57        2.57\n",
       "14          123831  123831      0      0    729.806     2.15        2.15\n",
       "130082        2460    2460      0      0   -726.053    -2.14        2.14\n",
       "15           13675   13675      0      0    700.632     2.06        2.06\n",
       "16           75887   75887      0      0    647.230     1.90        1.90\n",
       "130081       96609   96609      0      0   -570.376    -1.68        1.68\n",
       "17          132020  132020      0      0    564.235     1.66        1.66\n",
       "18          113689  113689      0      0    548.918     1.62        1.62\n",
       "130080        2769    2769      0      0   -538.172    -1.58        1.58\n",
       "130079       13188   13188      0      0   -497.602    -1.46        1.46\n",
       "130078      118386  118386      0      0   -464.157    -1.37        1.37\n",
       "19          110394  110394      0      0    463.707     1.36        1.36\n",
       "20           57070   57070      0      0    463.707     1.36        1.36\n",
       "21          112669  112669      0      0    462.643     1.36        1.36\n",
       "22             158     158      0      0    462.643     1.36        1.36\n",
       "130077      108839  108839      0      0   -448.514    -1.32        1.32\n",
       "130076       77849   77849      0      0   -441.237    -1.30        1.30\n",
       "130075       11601   11601      0      0   -433.235    -1.27        1.27\n",
       "23           55881   55881      0      0    428.961     1.26        1.26\n",
       "130074       71374   71374      0      0   -404.756    -1.19        1.19\n",
       "24           15580   15580      0      0    374.565     1.10        1.10\n",
       "25          111537  111537      0      0    368.788     1.09        1.09\n",
       "26           83177   83177      0      0    368.620     1.08        1.08\n",
       "130073       19556   19556      0      0   -359.455    -1.06        1.06\n",
       "27           84417   84417      0      0    358.088     1.05        1.05\n",
       "130072      127527  127527      0      0   -346.891    -1.02        1.02\n",
       "130071       24268   24268      0      0   -334.316    -0.98        0.98\n",
       "130070       17874   17874      0      0   -328.244    -0.97        0.97\n",
       "28           44440   44440      0      0    326.484     0.96        0.96\n",
       "130068       65460   65460      0      0   -321.337    -0.95        0.95\n",
       "130069       34370   34370      0      0   -322.602    -0.95        0.95\n",
       "130065      114878  114878      0      0   -319.911    -0.94        0.94\n",
       "130066       10686   10686      0      0   -320.925    -0.94        0.94\n",
       "130067       38885   38885      0      0   -321.062    -0.94        0.94\n",
       "29           55133   55133      0      0    312.607     0.92        0.92\n",
       "130064       32330   32330      0      0   -299.904    -0.88        0.88\n",
       "130062       94312   94312      0      0   -288.496    -0.85        0.85\n",
       "130063       64412   64412      0      0   -289.259    -0.85        0.85\n",
       "130061       80783   80783      0      0   -273.671    -0.81        0.81\n",
       "130060      117923  117923      0      0   -267.721    -0.79        0.79\n",
       "130059      110696  110696      0      0   -260.236    -0.77        0.77\n",
       "30          115049  115049      0      0    251.424     0.74        0.74\n",
       "130058       28373   28373      0      0   -239.144    -0.70        0.70\n",
       "31           54332   54332      0      0    224.978     0.66        0.66\n",
       "32           32477   32477      0      0    224.901     0.66        0.66\n",
       "130057       42413   42413      0      0   -209.135    -0.62        0.62\n",
       "33           28677   28677      0      0    204.781     0.60        0.60\n",
       "34           13054   13054      0      0    201.646     0.59        0.59\n",
       "130056       68904   68904      0      0   -199.098    -0.59        0.59\n",
       "130055       49835   49835      0      0   -196.616    -0.58        0.58\n",
       "35           34791   34791      0      0    189.236     0.56        0.56\n",
       "130054      122914  122914      0      0   -189.534    -0.56        0.56\n",
       "130053      121268  121268      0      0   -183.706    -0.54        0.54\n",
       "36           94689   94689      0      0    179.752     0.53        0.53\n",
       "130052       62369   62369      0      0   -181.773    -0.53        0.53\n",
       "37           69561   69561      0      0    162.146     0.48        0.48\n",
       "38           98657   98657      0      0    161.584     0.48        0.48\n",
       "130049       57947   57947      0      0   -162.636    -0.48        0.48\n",
       "130050       94635   94635      0      0   -163.295    -0.48        0.48\n",
       "130051       70162   70162      0      0   -164.569    -0.48        0.48\n",
       "39           78553   78553      0      0    160.475     0.47        0.47\n",
       "130046       94249   94249      0      0   -151.709    -0.45        0.45\n",
       "130047       14676   14676      0      0   -152.356    -0.45        0.45\n",
       "130048       38735   38735      0      0   -154.583    -0.45        0.45\n",
       "40           21800   21800      0      0    148.688     0.44        0.44\n",
       "130043       26448   26448      0      0   -149.624    -0.44        0.44\n",
       "130044      129933  129933      0      0   -150.317    -0.44        0.44\n",
       "130045      120246  120246      0      0   -150.514    -0.44        0.44\n",
       "41            3566    3566      0      0    146.185     0.43        0.43\n",
       "130042       77584   77584      0      0   -147.687    -0.43        0.43\n",
       "130041       54275   54275      0      0   -141.398    -0.42        0.42\n",
       "42           54795   54795      0      0    138.091     0.41        0.41\n",
       "130040      119756  119756      0      0   -140.315    -0.41        0.41\n",
       "130039       41106   41106      0      0   -134.787    -0.40        0.40\n",
       "43           67944   67944      0      0    133.864     0.39        0.39\n",
       "44           29023   29023      0      0    130.056     0.38        0.38\n",
       "45           15953   15953      0      0    129.827     0.38        0.38\n",
       "130037       24259   24259      0      0   -128.626    -0.38        0.38\n",
       "130038       59065   59065      0      0   -129.770    -0.38        0.38\n",
       "130035       54642   54642      0      0   -124.115    -0.37        0.37\n",
       "130036       74968   74968      0      0   -126.765    -0.37        0.37\n",
       "46           10681   10681      0      0    119.820     0.35        0.35\n",
       "130034       68021   68021      0      0   -116.651    -0.34        0.34\n",
       "47            1786    1786      0      0    110.523     0.33        0.33\n"
      ]
     },
     "metadata": {},
     "output_type": "display_data"
    }
   ],
   "source": [
    "%%R\n",
    "topFeatures = f[order(-f$absRelScore),]\n",
    "print(nrow(topFeatures))\n",
    "#topFeatures = topFeatures[order(-topFeatures$absRelScore),]\n",
    "topFeatures[1:100,]"
   ]
  },
  {
   "cell_type": "code",
   "execution_count": 7,
   "metadata": {
    "collapsed": true
   },
   "outputs": [
    {
     "ename": "LookupError",
     "evalue": "'topFeatureNames' not found",
     "output_type": "error",
     "traceback": [
      "\u001b[0;31m------------------------------------------------------------\u001b[0m",
      "\u001b[0;31mLookupError\u001b[0m                Traceback (most recent call last)",
      "\u001b[0;32m<ipython-input-7-5d9fe6c92f6a>\u001b[0m in \u001b[0;36m<module>\u001b[0;34m()\u001b[0m\n\u001b[0;32m----> 1\u001b[0;31m \u001b[0mget_ipython\u001b[0m\u001b[0;34m(\u001b[0m\u001b[0;34m)\u001b[0m\u001b[0;34m.\u001b[0m\u001b[0mmagic\u001b[0m\u001b[0;34m(\u001b[0m\u001b[0;34mu'Rpull topFeatureNames'\u001b[0m\u001b[0;34m)\u001b[0m\u001b[0;34m\u001b[0m\u001b[0m\n\u001b[0m\u001b[1;32m      2\u001b[0m \u001b[0;31m#sends topFeatureNames variable and data from R to python\u001b[0m\u001b[0;34m\u001b[0m\u001b[0;34m\u001b[0m\u001b[0m\n",
      "\u001b[0;32m//anaconda/lib/python2.7/site-packages/IPython/core/interactiveshell.pyc\u001b[0m in \u001b[0;36mmagic\u001b[0;34m(self, arg_s)\u001b[0m\n\u001b[1;32m   2161\u001b[0m         \u001b[0mmagic_name\u001b[0m\u001b[0;34m,\u001b[0m \u001b[0m_\u001b[0m\u001b[0;34m,\u001b[0m \u001b[0mmagic_arg_s\u001b[0m \u001b[0;34m=\u001b[0m \u001b[0marg_s\u001b[0m\u001b[0;34m.\u001b[0m\u001b[0mpartition\u001b[0m\u001b[0;34m(\u001b[0m\u001b[0;34m' '\u001b[0m\u001b[0;34m)\u001b[0m\u001b[0;34m\u001b[0m\u001b[0m\n\u001b[1;32m   2162\u001b[0m         \u001b[0mmagic_name\u001b[0m \u001b[0;34m=\u001b[0m \u001b[0mmagic_name\u001b[0m\u001b[0;34m.\u001b[0m\u001b[0mlstrip\u001b[0m\u001b[0;34m(\u001b[0m\u001b[0mprefilter\u001b[0m\u001b[0;34m.\u001b[0m\u001b[0mESC_MAGIC\u001b[0m\u001b[0;34m)\u001b[0m\u001b[0;34m\u001b[0m\u001b[0m\n\u001b[0;32m-> 2163\u001b[0;31m         \u001b[0;32mreturn\u001b[0m \u001b[0mself\u001b[0m\u001b[0;34m.\u001b[0m\u001b[0mrun_line_magic\u001b[0m\u001b[0;34m(\u001b[0m\u001b[0mmagic_name\u001b[0m\u001b[0;34m,\u001b[0m \u001b[0mmagic_arg_s\u001b[0m\u001b[0;34m)\u001b[0m\u001b[0;34m\u001b[0m\u001b[0m\n\u001b[0m\u001b[1;32m   2164\u001b[0m \u001b[0;34m\u001b[0m\u001b[0m\n\u001b[1;32m   2165\u001b[0m     \u001b[0;31m#-------------------------------------------------------------------------\u001b[0m\u001b[0;34m\u001b[0m\u001b[0;34m\u001b[0m\u001b[0m\n",
      "\u001b[0;32m//anaconda/lib/python2.7/site-packages/IPython/core/interactiveshell.pyc\u001b[0m in \u001b[0;36mrun_line_magic\u001b[0;34m(self, magic_name, line)\u001b[0m\n\u001b[1;32m   2082\u001b[0m                 \u001b[0mkwargs\u001b[0m\u001b[0;34m[\u001b[0m\u001b[0;34m'local_ns'\u001b[0m\u001b[0;34m]\u001b[0m \u001b[0;34m=\u001b[0m \u001b[0msys\u001b[0m\u001b[0;34m.\u001b[0m\u001b[0m_getframe\u001b[0m\u001b[0;34m(\u001b[0m\u001b[0mstack_depth\u001b[0m\u001b[0;34m)\u001b[0m\u001b[0;34m.\u001b[0m\u001b[0mf_locals\u001b[0m\u001b[0;34m\u001b[0m\u001b[0m\n\u001b[1;32m   2083\u001b[0m             \u001b[0;32mwith\u001b[0m \u001b[0mself\u001b[0m\u001b[0;34m.\u001b[0m\u001b[0mbuiltin_trap\u001b[0m\u001b[0;34m:\u001b[0m\u001b[0;34m\u001b[0m\u001b[0m\n\u001b[0;32m-> 2084\u001b[0;31m                 \u001b[0mresult\u001b[0m \u001b[0;34m=\u001b[0m \u001b[0mfn\u001b[0m\u001b[0;34m(\u001b[0m\u001b[0;34m*\u001b[0m\u001b[0margs\u001b[0m\u001b[0;34m,\u001b[0m\u001b[0;34m**\u001b[0m\u001b[0mkwargs\u001b[0m\u001b[0;34m)\u001b[0m\u001b[0;34m\u001b[0m\u001b[0m\n\u001b[0m\u001b[1;32m   2085\u001b[0m             \u001b[0;32mreturn\u001b[0m \u001b[0mresult\u001b[0m\u001b[0;34m\u001b[0m\u001b[0m\n\u001b[1;32m   2086\u001b[0m \u001b[0;34m\u001b[0m\u001b[0m\n",
      "\u001b[0;32m<decorator-gen-126>\u001b[0m in \u001b[0;36mRpull\u001b[0;34m(self, line)\u001b[0m\n",
      "\u001b[0;32m//anaconda/lib/python2.7/site-packages/IPython/core/magic.pyc\u001b[0m in \u001b[0;36m<lambda>\u001b[0;34m(f, *a, **k)\u001b[0m\n\u001b[1;32m    191\u001b[0m     \u001b[0;31m# but it's overkill for just that one bit of state.\u001b[0m\u001b[0;34m\u001b[0m\u001b[0;34m\u001b[0m\u001b[0m\n\u001b[1;32m    192\u001b[0m     \u001b[0;32mdef\u001b[0m \u001b[0mmagic_deco\u001b[0m\u001b[0;34m(\u001b[0m\u001b[0marg\u001b[0m\u001b[0;34m)\u001b[0m\u001b[0;34m:\u001b[0m\u001b[0;34m\u001b[0m\u001b[0m\n\u001b[0;32m--> 193\u001b[0;31m         \u001b[0mcall\u001b[0m \u001b[0;34m=\u001b[0m \u001b[0;32mlambda\u001b[0m \u001b[0mf\u001b[0m\u001b[0;34m,\u001b[0m \u001b[0;34m*\u001b[0m\u001b[0ma\u001b[0m\u001b[0;34m,\u001b[0m \u001b[0;34m**\u001b[0m\u001b[0mk\u001b[0m\u001b[0;34m:\u001b[0m \u001b[0mf\u001b[0m\u001b[0;34m(\u001b[0m\u001b[0;34m*\u001b[0m\u001b[0ma\u001b[0m\u001b[0;34m,\u001b[0m \u001b[0;34m**\u001b[0m\u001b[0mk\u001b[0m\u001b[0;34m)\u001b[0m\u001b[0;34m\u001b[0m\u001b[0m\n\u001b[0m\u001b[1;32m    194\u001b[0m \u001b[0;34m\u001b[0m\u001b[0m\n\u001b[1;32m    195\u001b[0m         \u001b[0;32mif\u001b[0m \u001b[0mcallable\u001b[0m\u001b[0;34m(\u001b[0m\u001b[0marg\u001b[0m\u001b[0;34m)\u001b[0m\u001b[0;34m:\u001b[0m\u001b[0;34m\u001b[0m\u001b[0m\n",
      "\u001b[0;32m//anaconda/lib/python2.7/site-packages/rpy2-2.8.3-py2.7-macosx-10.6-x86_64.egg/rpy2/ipython/rmagic.pyc\u001b[0m in \u001b[0;36mRpull\u001b[0;34m(self, line)\u001b[0m\n\u001b[1;32m    346\u001b[0m         \u001b[0moutputs\u001b[0m \u001b[0;34m=\u001b[0m \u001b[0margs\u001b[0m\u001b[0;34m.\u001b[0m\u001b[0moutputs\u001b[0m\u001b[0;34m\u001b[0m\u001b[0m\n\u001b[1;32m    347\u001b[0m         \u001b[0;32mfor\u001b[0m \u001b[0moutput\u001b[0m \u001b[0;32min\u001b[0m \u001b[0moutputs\u001b[0m\u001b[0;34m:\u001b[0m\u001b[0;34m\u001b[0m\u001b[0m\n\u001b[0;32m--> 348\u001b[0;31m             \u001b[0mrobj\u001b[0m \u001b[0;34m=\u001b[0m \u001b[0mri\u001b[0m\u001b[0;34m.\u001b[0m\u001b[0mglobalenv\u001b[0m\u001b[0;34m.\u001b[0m\u001b[0mget\u001b[0m\u001b[0;34m(\u001b[0m\u001b[0moutput\u001b[0m\u001b[0;34m)\u001b[0m\u001b[0;34m\u001b[0m\u001b[0m\n\u001b[0m\u001b[1;32m    349\u001b[0m             \u001b[0mself\u001b[0m\u001b[0;34m.\u001b[0m\u001b[0mshell\u001b[0m\u001b[0;34m.\u001b[0m\u001b[0mpush\u001b[0m\u001b[0;34m(\u001b[0m\u001b[0;34m{\u001b[0m\u001b[0moutput\u001b[0m\u001b[0;34m:\u001b[0m \u001b[0mconverter\u001b[0m\u001b[0;34m.\u001b[0m\u001b[0mri2py\u001b[0m\u001b[0;34m(\u001b[0m\u001b[0mrobj\u001b[0m\u001b[0;34m)\u001b[0m \u001b[0;34m}\u001b[0m\u001b[0;34m)\u001b[0m\u001b[0;34m\u001b[0m\u001b[0m\n\u001b[1;32m    350\u001b[0m \u001b[0;34m\u001b[0m\u001b[0m\n",
      "\u001b[0;31mLookupError\u001b[0m: 'topFeatureNames' not found"
     ]
    }
   ],
   "source": [
    "%Rpull topFeatureNames\n",
    "#sends topFeatureNames variable and data from R to python\n",
    "topFeatureNames"
   ]
  }
 ],
 "metadata": {
  "anaconda-cloud": {},
  "kernelspec": {
   "display_name": "Python [Root]",
   "language": "python",
   "name": "Python [Root]"
  },
  "language_info": {
   "codemirror_mode": {
    "name": "ipython",
    "version": 2
   },
   "file_extension": ".py",
   "mimetype": "text/x-python",
   "name": "python",
   "nbconvert_exporter": "python",
   "pygments_lexer": "ipython2",
   "version": "2.7.12"
  }
 },
 "nbformat": 4,
 "nbformat_minor": 0
}
